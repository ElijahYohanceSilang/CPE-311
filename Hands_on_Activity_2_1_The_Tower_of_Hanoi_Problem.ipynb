{
  "nbformat": 4,
  "nbformat_minor": 0,
  "metadata": {
    "colab": {
      "provenance": [],
      "authorship_tag": "ABX9TyPlcO1D18TYvLM8EgD2ecdF",
      "include_colab_link": true
    },
    "kernelspec": {
      "name": "python3",
      "display_name": "Python 3"
    },
    "language_info": {
      "name": "python"
    }
  },
  "cells": [
    {
      "cell_type": "markdown",
      "metadata": {
        "id": "view-in-github",
        "colab_type": "text"
      },
      "source": [
        "<a href=\"https://colab.research.google.com/github/ElijahYohanceSilang/CPE-311/blob/main/Hands_on_Activity_2_1_The_Tower_of_Hanoi_Problem.ipynb\" target=\"_parent\"><img src=\"https://colab.research.google.com/assets/colab-badge.svg\" alt=\"Open In Colab\"/></a>"
      ]
    },
    {
      "cell_type": "code",
      "execution_count": 1,
      "metadata": {
        "colab": {
          "base_uri": "https://localhost:8080/",
          "height": 0
        },
        "id": "KQHkzXTasMbh",
        "outputId": "c02b8dc7-baa7-4cb7-f24a-7d4259c18c5c"
      },
      "outputs": [
        {
          "output_type": "stream",
          "name": "stdout",
          "text": [
            "120\n"
          ]
        }
      ],
      "source": [
        "#initialize\n",
        "source = [1, 2, 3, 4]\n",
        "auxiliary = []\n",
        "destination = []\n",
        "\n",
        "#variable to combine all lists for choosing what number to move\n",
        "pegs = [source, auxiliary, destination]\n",
        "\n",
        "\n",
        "#functions when you place an object to these pegs\n",
        "def moveSource()\n",
        "  source.append(Obj)\n",
        "\n",
        "\n",
        "def moveAuxiliary()\n",
        "  auxiliary.append(Obj)\n",
        "\n",
        "def moveDestination()\n",
        "  destination.append(Obj)\n",
        "\n",
        "\n",
        "#loop\n",
        "if len(destination) == 4:\n",
        "\n",
        "\n",
        "\n"
      ]
    }
  ]
}