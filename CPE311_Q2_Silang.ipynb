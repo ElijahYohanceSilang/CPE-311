{
 "cells": [
  {
   "cell_type": "code",
   "execution_count": 20,
   "id": "e6530780-fe76-44a9-810b-8ca763937925",
   "metadata": {},
   "outputs": [
    {
     "name": "stdout",
     "output_type": "stream",
     "text": [
      "20\n",
      "60\n",
      "120\n",
      "200\n",
      "300\n"
     ]
    },
    {
     "data": {
      "text/plain": [
       "0"
      ]
     },
     "execution_count": 20,
     "metadata": {},
     "output_type": "execute_result"
    }
   ],
   "source": [
    "def det(n):\n",
    "    i = 0\n",
    "    sum = 0\n",
    "    x = n\n",
    "    \n",
    "    while i < len(n):\n",
    "        sum += x[i]\n",
    "        print(sum)\n",
    "        i += 1\n",
    "    else:\n",
    "        return 0\n",
    "\n",
    "n = [20, 40, 60, 80, 100]\n",
    "det(n)"
   ]
  },
  {
   "cell_type": "code",
   "execution_count": null,
   "id": "5e656d62-b102-4880-bd4f-41165562c796",
   "metadata": {},
   "outputs": [],
   "source": []
  }
 ],
 "metadata": {
  "kernelspec": {
   "display_name": "Python 3 (ipykernel)",
   "language": "python",
   "name": "python3"
  },
  "language_info": {
   "codemirror_mode": {
    "name": "ipython",
    "version": 3
   },
   "file_extension": ".py",
   "mimetype": "text/x-python",
   "name": "python",
   "nbconvert_exporter": "python",
   "pygments_lexer": "ipython3",
   "version": "3.12.4"
  }
 },
 "nbformat": 4,
 "nbformat_minor": 5
}
